{
 "cells": [
  {
   "cell_type": "markdown",
   "metadata": {},
   "source": [
    "## imports"
   ]
  },
  {
   "cell_type": "markdown",
   "metadata": {},
   "source": [
    "* **Thread**: A line of code execution that can run in one of your computer's cores.\n",
    "* **Process**: One of more threads and the resources they need (e.g. network connection, mouse pointer, hard drive access, or even the core(s) in which the thread(s) run).\n",
    "* **GIL**: A key, critical, important resource in any Python program. Only one is created per Python process, so it's unique in each."
   ]
  },
  {
   "cell_type": "code",
   "execution_count": 10,
   "metadata": {},
   "outputs": [],
   "source": [
    "import asyncio\n",
    "import time\n",
    "from threading import Thread"
   ]
  },
  {
   "cell_type": "code",
   "execution_count": 9,
   "metadata": {},
   "outputs": [],
   "source": [
    "await asyncio.sleep(5, result='hello')"
   ]
  },
  {
   "cell_type": "code",
   "execution_count": 25,
   "metadata": {},
   "outputs": [
    {
     "name": "stdout",
     "output_type": "stream",
     "text": [
      "hello, tom\n",
      "1.5163118839263916\n",
      "start calculating ...\n",
      "caclulating time finished 4.830546140670776\n",
      "whole program needed: 6.347211122512817\n",
      "----- threading -----\n",
      "\n",
      "\n",
      "\n",
      "\n",
      "start calculating ...\n",
      "caclulating time finished 5.0218892097473145\n",
      "hello, tom\n",
      "6.2671754360198975\n",
      "threading time: 6.282590866088867\n"
     ]
    }
   ],
   "source": [
    "\n",
    "\n",
    "def as_user():\n",
    "    start = time.time()\n",
    "    user_input = input('Enter your name:')\n",
    "    greeet = f'hello, {user_input}'\n",
    "    print(greeet)\n",
    "    end = time.time()\n",
    "    print(end - start)\n",
    "\n",
    "\n",
    "def comlex_calculation():\n",
    "    start = time.time()\n",
    "    print('start calculating ...')\n",
    "    [x**2 for x in range(20000000)]\n",
    "    end = time.time()\n",
    "    print('caclulating time finished', end - start)\n",
    "    \n",
    "\n",
    "start = time.time()\n",
    "as_user()\n",
    "comlex_calculation()\n",
    "end = time.time()\n",
    "print('whole program needed:', end - start)\n",
    "\n",
    "print('----- threading -----\\n\\n\\n\\n')\n",
    "\n",
    "thread1 = Thread(target=comlex_calculation)\n",
    "# thread3 = Thread(target=comlex_calculation)\n",
    "thread2 = Thread(target=as_user)\n",
    "\n",
    "start_thr = time.time()\n",
    "thread1.start()\n",
    "thread2.start()\n",
    "# thread3.start()\n",
    "\n",
    "\n",
    "thread1.join()\n",
    "thread2.join()\n",
    "# thread3.join()\n",
    "\n",
    "print('threading time:', time.time() - start_thr)"
   ]
  },
  {
   "cell_type": "code",
   "execution_count": 26,
   "metadata": {},
   "outputs": [
    {
     "name": "stdout",
     "output_type": "stream",
     "text": [
      "hello, kote\n",
      "input time: 2.497661590576172\n",
      "start calculating ...\n",
      "caclulating time finished 4.836216449737549\n",
      "whole program needed: 7.334230184555054\n",
      "----- threading -----\n",
      "\n",
      "\n",
      "\n",
      "\n",
      "start calculating ...\n",
      "start calculating ...\n",
      "caclulating time finished 10.540790796279907\n",
      "caclulating time finished 10.953229904174805\n",
      "threading time: 10.955147504806519\n"
     ]
    }
   ],
   "source": [
    "\n",
    "def as_user():\n",
    "    start = time.time()\n",
    "    user_input = input('Enter your name:')\n",
    "    greeet = f'hello, {user_input}'\n",
    "    print(greeet)\n",
    "    end = time.time()\n",
    "    print(\"input time:\", end - start)\n",
    "\n",
    "\n",
    "def comlex_calculation():\n",
    "    start = time.time()\n",
    "    print('start calculating ...')\n",
    "    [x**2 for x in range(20000000)]\n",
    "    end = time.time()\n",
    "    print('caclulating time finished', end - start)\n",
    "    \n",
    "\n",
    "start = time.time()\n",
    "as_user()\n",
    "comlex_calculation()\n",
    "end = time.time()\n",
    "print('whole program needed:', end - start)\n",
    "\n",
    "print('----- threading -----\\n\\n\\n\\n')\n",
    "\n",
    "thread1 = Thread(target=comlex_calculation)\n",
    "thread2 = Thread(target=comlex_calculation)\n",
    "\n",
    "start_thr = time.time()\n",
    "thread1.start()\n",
    "thread2.start()\n",
    "# thread3.start()\n",
    "\n",
    "thread1.join()\n",
    "thread2.join()\n",
    "# thread3.join()\n",
    "\n",
    "print('threading time:', time.time() - start_thr)"
   ]
  },
  {
   "cell_type": "code",
   "execution_count": 4,
   "metadata": {},
   "outputs": [
    {
     "name": "stdout",
     "output_type": "stream",
     "text": [
      "start calculating ...\n",
      "caclulating time finished 4.885446548461914\n"
     ]
    }
   ],
   "source": [
    "import time\n",
    "from threading import Thread\n",
    "\n",
    "\n",
    "def comlex_calculation():\n",
    "    start = time.time()\n",
    "    print('start calculating ...')\n",
    "    [x**2 for x in range(20000000)]\n",
    "    end = time.time()\n",
    "    print('caclulating time finished', end - start)\n",
    "\n",
    "\n",
    "# thread1 = Thread(target=comlex_calculation)\n",
    "thread2 = Thread(target=comlex_calculation)\n",
    "\n",
    "start_thr = time.time()\n",
    "# thread1.start()\n",
    "thread2.start()\n",
    "# thread3.start()\n",
    "\n",
    "# thread1.join()\n",
    "thread2.join()"
   ]
  },
  {
   "cell_type": "code",
   "execution_count": 12,
   "metadata": {},
   "outputs": [
    {
     "name": "stdout",
     "output_type": "stream",
     "text": [
      "start calculating ...\n",
      "caclulating time finished 4.837677240371704\n",
      "start calculating ...\n",
      "caclulating time finished 0.043056488037109375\n",
      "start calculating ...\n",
      "caclulating time finished 0.00044083595275878906\n",
      "tital threading time 4.884327173233032\n"
     ]
    }
   ],
   "source": [
    "def comlex_calculation(range_number):\n",
    "    start = time.time()\n",
    "    print('start calculating ...')\n",
    "    [x**2 for x in range(range_number)]\n",
    "    end = time.time()\n",
    "    print('caclulating time finished', end - start)\n",
    "\n",
    "\n",
    "start = time.time()\n",
    "thread1 = Thread(target=comlex_calculation(20000000))\n",
    "thread2 = Thread(target=comlex_calculation(200000))\n",
    "thread3 = Thread(target=comlex_calculation(2000))\n",
    "\n",
    "start_thr = time.time()\n",
    "thread1.start()\n",
    "thread2.start()\n",
    "thread3.start()\n",
    "\n",
    "thread1.join()\n",
    "thread2.join()\n",
    "thread3.join()\n",
    "\n",
    "print('tital threading time', time.time() - start)"
   ]
  },
  {
   "cell_type": "code",
   "execution_count": 13,
   "metadata": {},
   "outputs": [
    {
     "name": "stdout",
     "output_type": "stream",
     "text": [
      "start calculating ...\n",
      "caclulating time finished 4.75824236869812\n",
      "start calculating ...\n",
      "caclulating time finished 0.043822526931762695\n",
      "start calculating ...\n",
      "caclulating time finished 0.00044608116149902344\n",
      "total sequence time 4.80295991897583\n"
     ]
    }
   ],
   "source": [
    "def comlex_calculation(range_number):\n",
    "    start = time.time()\n",
    "    print('start calculating ...')\n",
    "    [x**2 for x in range(range_number)]\n",
    "    end = time.time()\n",
    "    print('caclulating time finished', end - start)\n",
    "\n",
    "\n",
    "start = time.time()\n",
    "comlex_calculation(20000000)\n",
    "comlex_calculation(200000)\n",
    "comlex_calculation(2000)\n",
    "print('total sequence time', time.time() - start)"
   ]
  },
  {
   "cell_type": "code",
   "execution_count": 18,
   "metadata": {},
   "outputs": [
    {
     "name": "stdout",
     "output_type": "stream",
     "text": [
      "start calculating ...\n",
      "caclulating time finished 4.709211111068726\n",
      "start calculating ...\n",
      "caclulating time finished 4.740731239318848\n",
      "total sequence time 9.450439929962158\n"
     ]
    }
   ],
   "source": [
    "def comlex_calculation(range_number):\n",
    "    start = time.time()\n",
    "    print('start calculating ...')\n",
    "    [x**2 for x in range(range_number)]\n",
    "    end = time.time()\n",
    "    print('caclulating time finished', end - start)\n",
    "\n",
    "\n",
    "start = time.time()\n",
    "comlex_calculation(20000000)\n",
    "comlex_calculation(20000000)\n",
    "print('total sequence time', time.time() - start)"
   ]
  },
  {
   "cell_type": "markdown",
   "metadata": {},
   "source": [
    "## concurenct.features, ThreadPoolExecutor"
   ]
  },
  {
   "cell_type": "code",
   "execution_count": 14,
   "metadata": {},
   "outputs": [
    {
     "name": "stdout",
     "output_type": "stream",
     "text": [
      "start calculating ...\n",
      "hello, tom\n",
      "input time: 2.6724135875701904\n",
      "caclulating time finished 5.242327451705933\n",
      "tital threading time 5.244379043579102\n"
     ]
    }
   ],
   "source": [
    "import time\n",
    "from concurrent.futures import ThreadPoolExecutor\n",
    "\n",
    "\n",
    "def as_user():\n",
    "    start = time.time()\n",
    "    user_input = input('Enter your name:')\n",
    "    greeet = f'hello, {user_input}'\n",
    "    print(greeet)\n",
    "    end = time.time()\n",
    "    print(\"input time:\", end - start)\n",
    "\n",
    "\n",
    "def comlex_calculation():\n",
    "    start = time.time()\n",
    "    print('start calculating ...')\n",
    "    [x**2 for x in range(20000000)]\n",
    "    end = time.time()\n",
    "    print('caclulating time finished', end - start)\n",
    "\n",
    "start = time.time()\n",
    "with ThreadPoolExecutor(max_workers=2) as pool:\n",
    "    pool.submit(comlex_calculation)\n",
    "    pool.submit(as_user)\n",
    "\n",
    "\n",
    "print('tital threading time', time.time() - start)"
   ]
  },
  {
   "cell_type": "markdown",
   "metadata": {},
   "source": [
    "# mutiprocesses"
   ]
  },
  {
   "cell_type": "code",
   "execution_count": 15,
   "metadata": {},
   "outputs": [
    {
     "name": "stdout",
     "output_type": "stream",
     "text": [
      "number of cpus:  4\n"
     ]
    }
   ],
   "source": [
    "import multiprocessing\n",
    "print(\"number of cpus: \", multiprocessing.cpu_count())"
   ]
  },
  {
   "cell_type": "code",
   "execution_count": 24,
   "metadata": {},
   "outputs": [
    {
     "name": "stdout",
     "output_type": "stream",
     "text": [
      "start calculating ...\n"
     ]
    },
    {
     "name": "stdout",
     "output_type": "stream",
     "text": [
      "start calculating ...\n",
      "start calculating ...\n",
      "caclulating time finished 5.744588851928711\n",
      "caclulating time finished 5.819386720657349\n",
      "caclulating time finished 5.9343132972717285\n",
      "total multiprocesses time 5.955320835113525\n"
     ]
    }
   ],
   "source": [
    "from multiprocessing import Process\n",
    "\n",
    "def as_user():\n",
    "    start = time.time()\n",
    "    user_input = input('Enter your name:')\n",
    "    greeet = f'hello, {user_input}'\n",
    "    print(greeet)\n",
    "    end = time.time()\n",
    "    print(\"input time:\", end - start)\n",
    "\n",
    "\n",
    "def comlex_calculation():\n",
    "    start = time.time()\n",
    "    print('start calculating ...')\n",
    "    [x**2 for x in range(20000000)]\n",
    "    end = time.time()\n",
    "    print('caclulating time finished', end - start)\n",
    "\n",
    "start = time.time()\n",
    "process1 = Process(target = comlex_calculation)\n",
    "process2 = Process(target = comlex_calculation)\n",
    "process3 = Process(target = comlex_calculation)\n",
    "\n",
    "process1.start()\n",
    "process2.start()\n",
    "process3.start()\n",
    "\n",
    "\n",
    "process1.join()\n",
    "process2.join()\n",
    "process3.join()\n",
    "print('total multiprocesses time', time.time() - start)"
   ]
  },
  {
   "cell_type": "code",
   "execution_count": 23,
   "metadata": {},
   "outputs": [
    {
     "name": "stdout",
     "output_type": "stream",
     "text": [
      "start calculating ...\n",
      "caclulating time finished 4.759110450744629\n",
      "start calculating ...\n",
      "caclulating time finished 4.629050970077515\n",
      "start calculating ...\n",
      "caclulating time finished 4.5850605964660645\n",
      "total sequence time 13.97391390800476\n"
     ]
    }
   ],
   "source": [
    "def comlex_calculation(range_number):\n",
    "    start = time.time()\n",
    "    print('start calculating ...')\n",
    "    [x**2 for x in range(range_number)]\n",
    "    end = time.time()\n",
    "    print('caclulating time finished', end - start)\n",
    "\n",
    "\n",
    "start = time.time()\n",
    "comlex_calculation(20000000)\n",
    "comlex_calculation(20000000)\n",
    "comlex_calculation(20000000)\n",
    "print('total sequence time', time.time() - start)"
   ]
  }
 ],
 "metadata": {
  "kernelspec": {
   "display_name": "Python 3",
   "language": "python",
   "name": "python3"
  },
  "language_info": {
   "codemirror_mode": {
    "name": "ipython",
    "version": 3
   },
   "file_extension": ".py",
   "mimetype": "text/x-python",
   "name": "python",
   "nbconvert_exporter": "python",
   "pygments_lexer": "ipython3",
   "version": "3.10.12"
  }
 },
 "nbformat": 4,
 "nbformat_minor": 2
}
