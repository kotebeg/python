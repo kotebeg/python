{
 "cells": [
  {
   "cell_type": "markdown",
   "metadata": {},
   "source": [
    "# @decorators without argument"
   ]
  },
  {
   "cell_type": "markdown",
   "metadata": {},
   "source": [
    "Decorators are a very powerful and useful tool in Python since it allows programmers to modify the behaviour of a function or class. Decorators allow us to wrap another function in order to extend the behaviour of the wrapped function, without permanently modifying it. But before diving deep into decorators let us understand some concepts that will come in handy in learning the decorators."
   ]
  },
  {
   "cell_type": "code",
   "execution_count": 10,
   "metadata": {},
   "outputs": [
    {
     "name": "stdout",
     "output_type": "stream",
     "text": [
      "--->>\n",
      "Password for admin is: *****\n"
     ]
    }
   ],
   "source": [
    "user  = {'username': 'tom123', 'access_level':'admin'}\n",
    "\n",
    "\n",
    "def user_has_perrmision(func):\n",
    "    if user.get('access_level') == 'admin':\n",
    "        return func  \n",
    "    raise RuntimeError\n",
    "    \n",
    "\n",
    "def my_function():\n",
    "    return 'Password for admin is: *****'\n",
    "\n",
    "my_secure_funct = user_has_perrmision(my_function)\n",
    "\n",
    "print(my_secure_funct())"
   ]
  },
  {
   "cell_type": "code",
   "execution_count": 13,
   "metadata": {},
   "outputs": [
    {
     "name": "stdout",
     "output_type": "stream",
     "text": [
      "<function my_function at 0x70d557fcd750>\n",
      "secure_func\n",
      "None\n",
      "secure_func\n"
     ]
    }
   ],
   "source": [
    "user  = {'username': 'tom123', 'access_level':'admin'}\n",
    "\n",
    "\n",
    "def user_has_perrmision(func):\n",
    "    def secure_func():\n",
    "        # \"\"\"docs in secure funciton\"\"\"\n",
    "        if user.get('access_level') == 'admin':\n",
    "            return func  \n",
    "    return secure_func\n",
    "    \n",
    "\n",
    "@user_has_perrmision   # does the same >>> my_secure_funct = user_has_perrmision(my_function)\n",
    "def my_function():\n",
    "    \"\"\"my functiion thar returns passwrd\"\"\"\n",
    "    return 'Password for admin is: *****'\n",
    "\n",
    "@user_has_perrmision\n",
    "def anothre():\n",
    "    pass\n",
    "\n",
    "print(my_function())\n",
    "print(my_function.__name__)\n",
    "print(my_function.__doc__)\n",
    "print(anothre.__name__)"
   ]
  }
 ],
 "metadata": {
  "kernelspec": {
   "display_name": "Python 3",
   "language": "python",
   "name": "python3"
  },
  "language_info": {
   "codemirror_mode": {
    "name": "ipython",
    "version": 3
   },
   "file_extension": ".py",
   "mimetype": "text/x-python",
   "name": "python",
   "nbconvert_exporter": "python",
   "pygments_lexer": "ipython3",
   "version": "3.10.12"
  }
 },
 "nbformat": 4,
 "nbformat_minor": 2
}
