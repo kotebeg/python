{
 "cells": [
  {
   "cell_type": "markdown",
   "metadata": {},
   "source": [
    "## iterator, `iter`"
   ]
  },
  {
   "cell_type": "markdown",
   "metadata": {},
   "source": [
    "Python has a built in function called `iter` which returns an **iterator** for the iterable we provide as an argument."
   ]
  },
  {
   "cell_type": "code",
   "execution_count": 7,
   "metadata": {},
   "outputs": [
    {
     "name": "stdout",
     "output_type": "stream",
     "text": [
      "<list_iterator object at 0x78c42c377130>\n",
      "1\n",
      "2\n"
     ]
    }
   ],
   "source": [
    "numbers = [1, 2, 3, 4, 5]\n",
    "numbers_iter = iter(numbers)\n",
    "\n",
    "print(numbers_iter)  # <list_iterator object at 0x7f57d138af70>\n",
    "\n",
    "\n",
    "print(next(numbers_iter))  # 1\n",
    "print(next(numbers_iter))  # 2"
   ]
  },
  {
   "cell_type": "code",
   "execution_count": 5,
   "metadata": {},
   "outputs": [
    {
     "name": "stdout",
     "output_type": "stream",
     "text": [
      "1\n",
      "2\n",
      "3\n",
      "4\n",
      "5\n"
     ]
    }
   ],
   "source": [
    "numbers = [1, 2, 3, 4, 5]\n",
    "numbers_iter = iter(numbers)\n",
    "\n",
    "while True:\n",
    "    try:\n",
    "        number = next(numbers_iter)\n",
    "    except StopIteration:\n",
    "        break\n",
    "    else:\n",
    "        print(number)\n"
   ]
  },
  {
   "cell_type": "markdown",
   "metadata": {},
   "source": [
    "## `yield` keyword"
   ]
  },
  {
   "cell_type": "code",
   "execution_count": 2,
   "metadata": {},
   "outputs": [
    {
     "name": "stdout",
     "output_type": "stream",
     "text": [
      "[0, 1, 2, 3, 4, 5, 6, 7, 8, 9]\n"
     ]
    }
   ],
   "source": [
    "def hundred_numbers():\n",
    "  nums = []\n",
    "  i = 0\n",
    "  while i < 10:\n",
    "    nums.append(i)\n",
    "    i += 1\n",
    "  return nums\n",
    "\n",
    "print(hundred_numbers())  "
   ]
  },
  {
   "cell_type": "code",
   "execution_count": 4,
   "metadata": {},
   "outputs": [
    {
     "name": "stdout",
     "output_type": "stream",
     "text": [
      "[0, 1, 4, 9, 16, 25, 36, 49, 64, 81]\n"
     ]
    }
   ],
   "source": [
    "print([x**2 for x in hundred_numbers()])"
   ]
  },
  {
   "cell_type": "code",
   "execution_count": null,
   "metadata": {},
   "outputs": [],
   "source": [
    "hundred_numbers = [n for n in range(100)]\n",
    "hundred_numbers"
   ]
  },
  {
   "cell_type": "code",
   "execution_count": 6,
   "metadata": {},
   "outputs": [
    {
     "name": "stdout",
     "output_type": "stream",
     "text": [
      "<generator object hundred_numbers at 0x78c42c312f80>\n",
      "0\n",
      "1\n",
      "2\n",
      "3\n"
     ]
    }
   ],
   "source": [
    "# it will not finish without next keyword, even it contains while keyword\n",
    "def hundred_numbers():\n",
    "    num = 0\n",
    "    while num < 100:\n",
    "        yield num\n",
    "        num += 1\n",
    "\n",
    "print(hundred_numbers())\n",
    "\n",
    "g = hundred_numbers()\n",
    "\n",
    "print(next(g))\n",
    "print(next(g))\n",
    "print(next(g))\n",
    "print(next(g))"
   ]
  },
  {
   "cell_type": "markdown",
   "metadata": {},
   "source": [
    "## generator comprehension"
   ]
  },
  {
   "cell_type": "code",
   "execution_count": 11,
   "metadata": {},
   "outputs": [
    {
     "name": "stdout",
     "output_type": "stream",
     "text": [
      "0\n",
      "1\n",
      "2\n",
      "[3, 4, 5, 6, 7, 8, 9, 10, 11, 12, 13, 14, 15, 16, 17, 18, 19, 20, 21, 22, 23, 24, 25, 26, 27, 28, 29, 30, 31, 32, 33, 34, 35, 36, 37, 38, 39, 40, 41, 42, 43, 44, 45, 46, 47, 48, 49, 50, 51, 52, 53, 54, 55, 56, 57, 58, 59, 60, 61, 62, 63, 64, 65, 66, 67, 68, 69, 70, 71, 72, 73, 74, 75, 76, 77, 78, 79, 80, 81, 82, 83, 84, 85, 86, 87, 88, 89, 90, 91, 92, 93, 94, 95, 96, 97, 98, 99]\n"
     ]
    }
   ],
   "source": [
    "# geerator comprehension\n",
    "hundred_numbers = (n for n in range(100))\n",
    "print(next(hundred_numbers))\n",
    "print(next(hundred_numbers))\n",
    "print(next(hundred_numbers))\n",
    "\n",
    "print(list(hundred_numbers))"
   ]
  },
  {
   "cell_type": "code",
   "execution_count": 15,
   "metadata": {},
   "outputs": [
    {
     "name": "stdout",
     "output_type": "stream",
     "text": [
      "1\n",
      "2\n",
      "3\n",
      "4\n",
      "5\n"
     ]
    }
   ],
   "source": [
    "def iterate_list(input_list):\n",
    "    for item in input_list:\n",
    "        yield item  # Yield each item one by one\n",
    "\n",
    "# List to iterate over\n",
    "numbers = [1, 2, 3, 4, 5]\n",
    "\n",
    "# Create the generator\n",
    "numbers_generator = iterate_list(numbers)\n",
    "\n",
    "# Iterate over the generator using a for loop\n",
    "for number in numbers_generator:\n",
    "    print(number)\n"
   ]
  },
  {
   "cell_type": "code",
   "execution_count": 16,
   "metadata": {},
   "outputs": [
    {
     "name": "stdout",
     "output_type": "stream",
     "text": [
      "1\n",
      "2\n",
      "3\n",
      "4\n",
      "5\n"
     ]
    }
   ],
   "source": [
    "class NumberCollection:\n",
    "    def __init__(self, numbers):\n",
    "        self.numbers = numbers  # Store the list as an instance attribute\n",
    "\n",
    "    def generate_numbers(self):\n",
    "        for number in self.numbers:\n",
    "            yield number  # Yield each number from the list one by one\n",
    "\n",
    "# Create an instance of the class\n",
    "numbers = NumberCollection([1, 2, 3, 4, 5])\n",
    "\n",
    "# Call the generator method to get a generator object\n",
    "generator = numbers.generate_numbers()\n",
    "\n",
    "# Iterate over the generator\n",
    "for num in generator:\n",
    "    print(num)\n"
   ]
  },
  {
   "cell_type": "markdown",
   "metadata": {},
   "source": [
    "Advantages of Using `yield`in a **Class**:\n",
    "\n",
    "* **Memory Efficiency**: It allows you to work with large datasets without holding everything in memory.\n",
    "* **Lazy Evaluation**: You can process data on demand.\n",
    "* **Encapsulation**: By using yield within a class, the generator function is encapsulated, keeping it tightly coupled with related data and behaviors.\n",
    "\n",
    "This pattern is useful when dealing with large sequences or files that should be processed one item at a time instead of all at once."
   ]
  },
  {
   "cell_type": "markdown",
   "metadata": {},
   "source": [
    "## generator class"
   ]
  },
  {
   "cell_type": "code",
   "execution_count": 21,
   "metadata": {},
   "outputs": [
    {
     "data": {
      "text/plain": [
       "1"
      ]
     },
     "execution_count": 21,
     "metadata": {},
     "output_type": "execute_result"
    }
   ],
   "source": [
    "\n",
    "class FirstHundredGenerator(object):\n",
    "    def __init__(self):\n",
    "        self.number = 0\n",
    "\n",
    "    def __next__(self):\n",
    "        if self.number < 100:\n",
    "            current = self.number\n",
    "            self.number += 1\n",
    "            return current\n",
    "        else:\n",
    "            raise StopIteration()\n",
    "\n",
    "gen = FirstHundredGenerator()\n",
    "next(gen)  # 0\n",
    "next(gen)  # 1\n"
   ]
  }
 ],
 "metadata": {
  "kernelspec": {
   "display_name": "Python 3",
   "language": "python",
   "name": "python3"
  },
  "language_info": {
   "codemirror_mode": {
    "name": "ipython",
    "version": 3
   },
   "file_extension": ".py",
   "mimetype": "text/x-python",
   "name": "python",
   "nbconvert_exporter": "python",
   "pygments_lexer": "ipython3",
   "version": "3.10.12"
  }
 },
 "nbformat": 4,
 "nbformat_minor": 2
}
