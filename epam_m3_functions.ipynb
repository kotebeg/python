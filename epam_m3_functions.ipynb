{
 "cells": [
  {
   "cell_type": "markdown",
   "metadata": {},
   "source": [
    "# L1: What Are Functions?"
   ]
  },
  {
   "cell_type": "code",
   "execution_count": 2,
   "metadata": {},
   "outputs": [
    {
     "data": {
      "text/plain": [
       "81"
      ]
     },
     "execution_count": 2,
     "metadata": {},
     "output_type": "execute_result"
    }
   ],
   "source": [
    "def power(num_1, num_2):     # get input value\n",
    "    result = num_1 ** num_2  # perform calculation\n",
    "    return result            # provide the result\n",
    "\n",
    "power(3, 4)"
   ]
  },
  {
   "cell_type": "code",
   "execution_count": 3,
   "metadata": {},
   "outputs": [
    {
     "name": "stdout",
     "output_type": "stream",
     "text": [
      "Hello, hele!\n"
     ]
    }
   ],
   "source": [
    "def welcome_greeting(name):   # might be without input arguments\n",
    "    print(f'Hello, {name}!')  \t# do some actions\n",
    "                          \t\t\t    # no return statement \n",
    "                                          \n",
    "welcome_greeting('hele')"
   ]
  },
  {
   "cell_type": "code",
   "execution_count": 2,
   "metadata": {},
   "outputs": [],
   "source": [
    "def some_funct():\n",
    "    \"\"\"will be defined later\"\"\""
   ]
  },
  {
   "cell_type": "markdown",
   "metadata": {},
   "source": [
    "## Assigning Functions to Variables"
   ]
  },
  {
   "cell_type": "code",
   "execution_count": 7,
   "metadata": {},
   "outputs": [
    {
     "data": {
      "text/plain": [
       "25"
      ]
     },
     "execution_count": 7,
     "metadata": {},
     "output_type": "execute_result"
    }
   ],
   "source": [
    "#  Assigning Functions to Variables\n",
    "def square(x):\n",
    "    return x ** 2\n",
    "\n",
    "square(5)"
   ]
  },
  {
   "cell_type": "code",
   "execution_count": 5,
   "metadata": {},
   "outputs": [],
   "source": [
    "my_func = square  # assign a function to a variable"
   ]
  },
  {
   "cell_type": "code",
   "execution_count": 6,
   "metadata": {},
   "outputs": [
    {
     "data": {
      "text/plain": [
       "49"
      ]
     },
     "execution_count": 6,
     "metadata": {},
     "output_type": "execute_result"
    }
   ],
   "source": [
    "my_func(7)"
   ]
  },
  {
   "cell_type": "markdown",
   "metadata": {},
   "source": [
    "## Passing Functions As Arguments"
   ]
  },
  {
   "cell_type": "code",
   "execution_count": 8,
   "metadata": {},
   "outputs": [
    {
     "data": {
      "text/plain": [
       "[9, 25, 36]"
      ]
     },
     "execution_count": 8,
     "metadata": {},
     "output_type": "execute_result"
    }
   ],
   "source": [
    "def apply_func(func, *args):\n",
    "    results = []\n",
    "    for arg in args:\n",
    "        results.append(func(arg))    \n",
    "    \n",
    "    return results\n",
    "\n",
    "apply_func(square, 3, 5, 6) # use square as input argument"
   ]
  },
  {
   "cell_type": "markdown",
   "metadata": {},
   "source": [
    "## Storing Functions in Data Structures"
   ]
  },
  {
   "cell_type": "code",
   "execution_count": 10,
   "metadata": {},
   "outputs": [
    {
     "data": {
      "text/plain": [
       "{'square': <function __main__.square(x)>, 'cube': <function __main__.cube(x)>}"
      ]
     },
     "execution_count": 10,
     "metadata": {},
     "output_type": "execute_result"
    }
   ],
   "source": [
    "def cube(x):\n",
    "    return x ** 3\n",
    "\n",
    "func_mapping = {'square': square, 'cube': cube}  # store functions in a dict\n",
    "func_mapping"
   ]
  },
  {
   "cell_type": "code",
   "execution_count": 11,
   "metadata": {},
   "outputs": [
    {
     "data": {
      "text/plain": [
       "<function __main__.square(x)>"
      ]
     },
     "execution_count": 11,
     "metadata": {},
     "output_type": "execute_result"
    }
   ],
   "source": [
    "func_mapping['square']"
   ]
  },
  {
   "cell_type": "markdown",
   "metadata": {},
   "source": [
    "## Returning Functions\n",
    "               "
   ]
  },
  {
   "cell_type": "code",
   "execution_count": 13,
   "metadata": {},
   "outputs": [
    {
     "data": {
      "text/plain": [
       "343"
      ]
     },
     "execution_count": 13,
     "metadata": {},
     "output_type": "execute_result"
    }
   ],
   "source": [
    "#  Returning Functions\n",
    "def get_func(func_name):\n",
    "    func_mapping = {'square': square, 'cube': cube}\n",
    "    return func_mapping.get(func_name, None)  # return function\n",
    "\n",
    "\n",
    "my_func = get_func('cube')\n",
    "my_func(7)"
   ]
  },
  {
   "cell_type": "markdown",
   "metadata": {},
   "source": [
    "# L2: Functions Arguments"
   ]
  },
  {
   "cell_type": "code",
   "execution_count": 13,
   "metadata": {},
   "outputs": [
    {
     "name": "stdout",
     "output_type": "stream",
     "text": [
      "3-1=2\n"
     ]
    }
   ],
   "source": [
    "# Arguments Provided by Position\n",
    "\n",
    "def sub_number(minuend, subtrahend):\n",
    "  print(f\"{minuend}-{subtrahend}={minuend - subtrahend}\")\n",
    "\n",
    "sub_number(3, 1) # 3 assigned to minuend, 1 – subtrahend, "
   ]
  },
  {
   "cell_type": "code",
   "execution_count": 14,
   "metadata": {},
   "outputs": [
    {
     "name": "stdout",
     "output_type": "stream",
     "text": [
      "1-3=-2\n"
     ]
    }
   ],
   "source": [
    "sub_number(1, 3) # 1 assigned to minuend, 3 – subtrahend"
   ]
  },
  {
   "cell_type": "code",
   "execution_count": 15,
   "metadata": {},
   "outputs": [
    {
     "name": "stdout",
     "output_type": "stream",
     "text": [
      "3-1=2\n"
     ]
    }
   ],
   "source": [
    "# Arguments Provided by Name\n",
    "def sub_number(minuend, subtrahend):\n",
    "  print(f\"{minuend}-{subtrahend}={minuend - subtrahend}\")\n",
    "\n",
    "\n",
    "sub_number(minuend=3, subtrahend=1) # 3 assigned to minuend, 1 – subtrahend"
   ]
  },
  {
   "cell_type": "code",
   "execution_count": 16,
   "metadata": {},
   "outputs": [
    {
     "name": "stdout",
     "output_type": "stream",
     "text": [
      "3-1=2\n"
     ]
    }
   ],
   "source": [
    "sub_number(subtrahend=1, minuend=3) # the same herA"
   ]
  },
  {
   "cell_type": "code",
   "execution_count": 23,
   "metadata": {},
   "outputs": [],
   "source": [
    "def show_arguments(*args, **kwargs):\n",
    "  print(f\"args: {args}; kwargs: {kwargs}\")"
   ]
  },
  {
   "cell_type": "code",
   "execution_count": 24,
   "metadata": {},
   "outputs": [
    {
     "name": "stdout",
     "output_type": "stream",
     "text": [
      "args: (1, 'name'); kwargs: {'arg1': [1, 2, 3], 'arg2': 'value'}\n"
     ]
    }
   ],
   "source": [
    "show_arguments(1, 'name', arg1=[1, 2, 3], arg2='value')"
   ]
  },
  {
   "cell_type": "code",
   "execution_count": 19,
   "metadata": {},
   "outputs": [],
   "source": [
    "def show_arguments(*args, **kwargs):\n",
    "  print(args[1:-1])\n",
    "  print(kwargs['name'])"
   ]
  },
  {
   "cell_type": "code",
   "execution_count": 21,
   "metadata": {},
   "outputs": [
    {
     "name": "stdout",
     "output_type": "stream",
     "text": [
      "('name', 'value')\n",
      "arg1\n"
     ]
    }
   ],
   "source": [
    "show_arguments(1, 'name', 'value', 10, name='arg1', arg2='Tom')"
   ]
  },
  {
   "cell_type": "code",
   "execution_count": 25,
   "metadata": {},
   "outputs": [],
   "source": [
    "def show_unpacked_arguments(a, b, c, d, e):\n",
    "  print(a, b, c, d, e)"
   ]
  },
  {
   "cell_type": "code",
   "execution_count": 26,
   "metadata": {},
   "outputs": [
    {
     "name": "stdout",
     "output_type": "stream",
     "text": [
      "1 2 name 3 value\n"
     ]
    }
   ],
   "source": [
    "list_of_args = [1, 2, 'name']\n",
    "key_value_args = {'e': 'value', 'd': 3}\n",
    "\n",
    "show_unpacked_arguments (*list_of_args, **key_value_args)"
   ]
  },
  {
   "cell_type": "code",
   "execution_count": 14,
   "metadata": {},
   "outputs": [],
   "source": [
    "def foo(pos1, pos2, /, pos_or_kwd1, pos_or_kwd2='default', *args, kwd_only1, kwd_only2='default', **kwargs):\n",
    "        print(\n",
    "        f\"pos1={pos1}\",\n",
    "        f\"pos2={pos2}\",\n",
    "        f\"pos_or_kwd1={pos_or_kwd1}\",\n",
    "        f\"pos_or_kwd2={pos_or_kwd2}\",\n",
    "        f\"args={args}\",\n",
    "        f\"kwd_only1={kwd_only1}\",\n",
    "        f\"kwd_only2={kwd_only2}\",\n",
    "        f\"kwargs={kwargs}\",\n",
    "        sep=\"\\n\",\n",
    "    )"
   ]
  },
  {
   "cell_type": "code",
   "execution_count": 15,
   "metadata": {},
   "outputs": [
    {
     "ename": "TypeError",
     "evalue": "foo() missing 1 required keyword-only argument: 'kwd_only1'",
     "output_type": "error",
     "traceback": [
      "\u001b[31m---------------------------------------------------------------------------\u001b[39m",
      "\u001b[31mTypeError\u001b[39m                                 Traceback (most recent call last)",
      "\u001b[36mCell\u001b[39m\u001b[36m \u001b[39m\u001b[32mIn[15]\u001b[39m\u001b[32m, line 1\u001b[39m\n\u001b[32m----> \u001b[39m\u001b[32m1\u001b[39m \u001b[43mfoo\u001b[49m\u001b[43m(\u001b[49m\u001b[32;43m1\u001b[39;49m\u001b[43m,\u001b[49m\u001b[43m \u001b[49m\u001b[32;43m2\u001b[39;49m\u001b[43m,\u001b[49m\u001b[43m \u001b[49m\u001b[32;43m3\u001b[39;49m\u001b[43m)\u001b[49m\n",
      "\u001b[31mTypeError\u001b[39m: foo() missing 1 required keyword-only argument: 'kwd_only1'"
     ]
    }
   ],
   "source": [
    "foo(1, 2, 3)"
   ]
  },
  {
   "cell_type": "code",
   "execution_count": 16,
   "metadata": {},
   "outputs": [
    {
     "name": "stdout",
     "output_type": "stream",
     "text": [
      "pos1=1\n",
      "pos2=2\n",
      "pos_or_kwd1=3\n",
      "pos_or_kwd2=default\n",
      "args=()\n",
      "kwd_only1=4\n",
      "kwd_only2=default\n",
      "kwargs={}\n"
     ]
    }
   ],
   "source": [
    "foo(1, 2, 3, kwd_only1=4)"
   ]
  },
  {
   "cell_type": "code",
   "execution_count": 17,
   "metadata": {},
   "outputs": [
    {
     "name": "stdout",
     "output_type": "stream",
     "text": [
      "Inside: 15\n",
      "Outside: 5\n"
     ]
    }
   ],
   "source": [
    "def modify_number(x):\n",
    "    x += 10\n",
    "    print(\"Inside:\", x)\n",
    "\n",
    "n = 5\n",
    "modify_number(n)\n",
    "print(\"Outside:\", n)"
   ]
  },
  {
   "cell_type": "code",
   "execution_count": 20,
   "metadata": {},
   "outputs": [
    {
     "name": "stdout",
     "output_type": "stream",
     "text": [
      "[1, 2, 3]\n",
      "Inside: [1, 2, 3, 4]\n",
      "Outside: [1, 2, 3, 4]\n"
     ]
    }
   ],
   "source": [
    "def modify_list(lst):\n",
    "    lst.append(4)\n",
    "    print(\"Inside:\", lst)\n",
    "\n",
    "nums = [1, 2, 3]\n",
    "print(nums)\n",
    "modify_list(nums)\n",
    "print(\"Outside:\", nums)"
   ]
  },
  {
   "cell_type": "code",
   "execution_count": null,
   "metadata": {},
   "outputs": [],
   "source": [
    "# Pass by value\tImmutable object passed → can’t change original\n",
    "# Pass by reference\tMutable object passed → changes affect original\n",
    "# Real Python model\tPass by object reference (name → object mapping)"
   ]
  },
  {
   "cell_type": "code",
   "execution_count": 21,
   "metadata": {},
   "outputs": [
    {
     "data": {
      "text/plain": [
       "{1: 1, 2: 4, 3: 9, 4: 16, 5: 25}"
      ]
     },
     "execution_count": 21,
     "metadata": {},
     "output_type": "execute_result"
    }
   ],
   "source": [
    "{x: x**2 for x in [1,2,3,4,5]}"
   ]
  },
  {
   "cell_type": "code",
   "execution_count": 24,
   "metadata": {},
   "outputs": [
    {
     "data": {
      "text/plain": [
       "[1, 2, 3, 4, 5]"
      ]
     },
     "execution_count": 24,
     "metadata": {},
     "output_type": "execute_result"
    }
   ],
   "source": [
    "list(range(1, 6))"
   ]
  },
  {
   "cell_type": "code",
   "execution_count": 26,
   "metadata": {},
   "outputs": [
    {
     "data": {
      "text/plain": [
       "{1: 1, 2: 4, 3: 9, 4: 16, 5: 25, 6: 36}"
      ]
     },
     "execution_count": 26,
     "metadata": {},
     "output_type": "execute_result"
    }
   ],
   "source": [
    "from typing import Dict\n",
    "def generate_squares(num: int)-> Dict[int, int]:\n",
    "    \"\"\"\n",
    "    Add your code here or call it from here   \n",
    "    \"\"\"\n",
    "    myList = list(range(1, num+1))\n",
    "    myDict = {x: x**2 for x in myList}\n",
    "    return myDict\n",
    "\n",
    "\n",
    "generate_squares(6)"
   ]
  },
  {
   "cell_type": "code",
   "execution_count": 29,
   "metadata": {},
   "outputs": [],
   "source": [
    "from typing import Dict, Any, Callable, Iterable\n",
    "\n",
    "DataType = Iterable[Dict[str, Any]]\n",
    "ModifierFunc = Callable[[DataType], DataType]\n",
    "\n",
    "\n",
    "def query(data: DataType, selector: ModifierFunc,\n",
    "          *filters: ModifierFunc) -> DataType:\n",
    "    \"\"\"\n",
    "    Query data with column selection and filters\n",
    "\n",
    "    :param data: List of dictionaries with columns and values\n",
    "    :param selector: result of `select` function call\n",
    "    :param filters: Any number of results of `field_filter` function calls\n",
    "    :return: Filtered data\n",
    "    \"\"\"\n",
    "    result: DataType = data\n",
    "    for f in filters:\n",
    "        result = f(result)\n",
    "    result = selector(result)\n",
    "    return list(result)  # normalize to list\n",
    "\n",
    "\n",
    "\n",
    "\n",
    "def select(*columns: str) -> ModifierFunc:\n",
    "    \"\"\"Return function that selects only specific columns from dataset\"\"\"\n",
    "    def _select(data: DataType) -> DataType:\n",
    "        return [ {k: row[k] for k in columns if k in row} for row in data ]\n",
    "    return _select\n",
    "\n",
    "\n",
    "def field_filter(column: str, *values: Any) -> ModifierFunc:\n",
    "    \"\"\"Return function that filters specific column to be one of `values`\"\"\"\n",
    "    allowed = set(values)\n",
    "    def _filter(data: DataType) -> DataType:\n",
    "        return [ row for row in data if column in row and row[column] in allowed ]\n",
    "    return _filter\n",
    "\n",
    "\n",
    "def test_query():\n",
    "    friends = [\n",
    "        {'name': 'Sam', 'gender': 'male', 'sport': 'Basketball'}\n",
    "    ]\n",
    "    value = query(\n",
    "        friends,\n",
    "        select(*('name', 'gender', 'sport')),\n",
    "        field_filter(*('sport', *('Basketball', 'volleyball'))),\n",
    "        field_filter(*('gender', *('male',))),\n",
    "    )\n",
    "    assert [{'gender': 'male', 'name': 'Sam', 'sport': 'Basketball'}] == value\n",
    "\n",
    "\n",
    "# if __name__ == \"__main__\":\n",
    "#     test_query()\n",
    "\n",
    "\n",
    "test_query()"
   ]
  },
  {
   "cell_type": "code",
   "execution_count": null,
   "metadata": {},
   "outputs": [
    {
     "name": "stdout",
     "output_type": "stream",
     "text": [
      "{'P', 'S', 'C', 'M', 'A'}\n",
      "{'S', 'C'}\n"
     ]
    }
   ],
   "source": [
    "def union(*args) -> set:\n",
    "    result = set()\n",
    "    for it in args:\n",
    "        result |= set(it)  # convert each argument to a set before union\n",
    "    return result\n",
    "\n",
    "\n",
    "def intersect(*args) -> set:\n",
    "    if not args:\n",
    "        return set()  # no args, return empty set\n",
    "    \n",
    "    # Convert all to sets first\n",
    "    sets = [set(it) for it in args]\n",
    "    \n",
    "    # Start from the first set, intersect with the rest\n",
    "    result = sets[0]\n",
    "    for s in sets[1:]:\n",
    "        result &= s\n",
    "    return result\n",
    "\n",
    "\n",
    "print(union(('S', 'A', 'M'), ['S', 'P', 'A', 'C']))\n",
    "\n",
    "\n",
    "print(intersect(('S', 'A', 'C'), ('P', 'C', 'S'), ('G', 'H', 'S', 'C')))"
   ]
  },
  {
   "cell_type": "code",
   "execution_count": null,
   "metadata": {},
   "outputs": [],
   "source": [
    "def union(*args) -> set:\n",
    "    \"\"\"Return the union of all provided iterables as a set.\"\"\"\n",
    "    return set().union(*(set(arg) for arg in args))\n",
    "\n",
    "\n",
    "def intersect(*args) -> set:\n",
    "    if not args:\n",
    "        return set()\n",
    "    return set.intersection(*(set(arg) for arg in args))\n",
    "    "
   ]
  },
  {
   "cell_type": "markdown",
   "metadata": {},
   "source": [
    "# L4: Lambda Funcions"
   ]
  },
  {
   "cell_type": "code",
   "execution_count": 3,
   "metadata": {},
   "outputs": [
    {
     "data": {
      "text/plain": [
       "4"
      ]
     },
     "execution_count": 3,
     "metadata": {},
     "output_type": "execute_result"
    }
   ],
   "source": [
    "def sum_number(a, b):\n",
    "        return a + b\n",
    "\n",
    "sum_number(1, 3)"
   ]
  },
  {
   "cell_type": "code",
   "execution_count": 5,
   "metadata": {},
   "outputs": [
    {
     "data": {
      "text/plain": [
       "4"
      ]
     },
     "execution_count": 5,
     "metadata": {},
     "output_type": "execute_result"
    }
   ],
   "source": [
    "sum_number_lambda = lambda a, b: a+ b\n",
    "sum_number_lambda(1, 3)"
   ]
  },
  {
   "cell_type": "code",
   "execution_count": 6,
   "metadata": {},
   "outputs": [
    {
     "name": "stdout",
     "output_type": "stream",
     "text": [
      "Help on method_descriptor:\n",
      "\n",
      "sort(self, /, *, key=None, reverse=False) unbound builtins.list method\n",
      "    Sort the list in ascending order and return None.\n",
      "\n",
      "    The sort is in-place (i.e. the list itself is modified) and stable (i.e. the\n",
      "    order of two equal elements is maintained).\n",
      "\n",
      "    If a key function is given, apply it once to each list item and sort them,\n",
      "    ascending or descending, according to their function values.\n",
      "\n",
      "    The reverse flag can be set to sort in descending order.\n",
      "\n"
     ]
    }
   ],
   "source": [
    "help(list.sort)"
   ]
  },
  {
   "cell_type": "code",
   "execution_count": null,
   "metadata": {},
   "outputs": [],
   "source": []
  }
 ],
 "metadata": {
  "kernelspec": {
   "display_name": "myenv_epam (3.12.3)",
   "language": "python",
   "name": "python3"
  },
  "language_info": {
   "codemirror_mode": {
    "name": "ipython",
    "version": 3
   },
   "file_extension": ".py",
   "mimetype": "text/x-python",
   "name": "python",
   "nbconvert_exporter": "python",
   "pygments_lexer": "ipython3",
   "version": "3.12.3"
  },
  "orig_nbformat": 4
 },
 "nbformat": 4,
 "nbformat_minor": 2
}
