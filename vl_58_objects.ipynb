{
 "cells": [
  {
   "cell_type": "code",
   "execution_count": 3,
   "metadata": {},
   "outputs": [
    {
     "data": {
      "text/plain": [
       "{'name': 'Tom', 'grades': [30, 70, 90], 'average': None}"
      ]
     },
     "execution_count": 3,
     "metadata": {},
     "output_type": "execute_result"
    }
   ],
   "source": [
    "my_student = {\n",
    "    'name': 'Tom',\n",
    "    'grades': [30, 70, 90],\n",
    "    'average': None # Something here\n",
    "}\n",
    "my_student"
   ]
  },
  {
   "cell_type": "code",
   "execution_count": 1,
   "metadata": {},
   "outputs": [],
   "source": [
    "class Student:\n",
    "    def __init__(self, new_name, new_grades):\n",
    "        self.name   = new_name\n",
    "        self.grades = new_grades\n",
    "\n",
    "        print(type(self.name))\n",
    "\n",
    "    def average(self):\n",
    "        return sum(self.grades) / len(self.grades)\n",
    "    \n"
   ]
  },
  {
   "cell_type": "code",
   "execution_count": 3,
   "metadata": {},
   "outputs": [
    {
     "name": "stdout",
     "output_type": "stream",
     "text": [
      "<class 'str'>\n",
      "<class 'str'>\n",
      "Tom <class 'str'>\n",
      "Jose\n"
     ]
    }
   ],
   "source": [
    "student_one = Student('Tom', [30, 70, 90])\n",
    "student_two = Student('Jose', [30, 70, 90, 100])\n",
    "\n",
    "print(student_one.name, type(student_one.name))\n",
    "print(student_two.name)"
   ]
  },
  {
   "cell_type": "code",
   "execution_count": 11,
   "metadata": {},
   "outputs": [
    {
     "name": "stdout",
     "output_type": "stream",
     "text": [
      "mammal\n",
      "I'm a mammal\n",
      "I'm a dog\n"
     ]
    }
   ],
   "source": [
    "# Python3 program to\n",
    "# demonstrate instantiating\n",
    "# a class\n",
    "class Dog:\n",
    "\n",
    "    # A simple class\n",
    "    # attribute\n",
    "    attr1 = \"mammal\"\n",
    "    attr2 = \"dog\"\n",
    "\n",
    "    # A sample method\n",
    "    def fun(self):\n",
    "        print(\"I'm a\", self.attr1)\n",
    "        print(\"I'm a\", self.attr2)\n",
    "\n",
    "\n",
    "# Driver code\n",
    "# Object instantiation\n",
    "Rodger = Dog()\n",
    "\n",
    "# Accessing class attributes\n",
    "# and method through objects\n",
    "print(Rodger.attr1)\n",
    "Rodger.fun()\n"
   ]
  },
  {
   "cell_type": "code",
   "execution_count": 13,
   "metadata": {},
   "outputs": [
    {
     "name": "stdout",
     "output_type": "stream",
     "text": [
      "Hello my name is John and I work in GeeksForGeeks.\n"
     ]
    },
    {
     "data": {
      "text/plain": [
       "'JohnGeeksForGeeks'"
      ]
     },
     "execution_count": 13,
     "metadata": {},
     "output_type": "execute_result"
    }
   ],
   "source": [
    "class GFG:\n",
    "    def __init__(self, name, company):\n",
    "        self.name = name\n",
    "        self.company = company\n",
    "\n",
    "    def show(self):\n",
    "        print(\"Hello my name is \" + self.name+\" and I\" +\n",
    "                \" work in \"+self.company+\".\")\n",
    "        inner_var = self.name + self.company\n",
    "        return inner_var\n",
    "\n",
    "\n",
    "obj = GFG(\"John\", \"GeeksForGeeks\")\n",
    "obj.show()"
   ]
  },
  {
   "cell_type": "code",
   "execution_count": 17,
   "metadata": {},
   "outputs": [
    {
     "name": "stdout",
     "output_type": "stream",
     "text": [
      "Hello my name is John and I work in GeeksForGeeks.\n",
      "True\n"
     ]
    }
   ],
   "source": [
    "class GFG:\n",
    "    def __init__(self, name, company, numb1, numb2):\n",
    "        self.name = name\n",
    "        self.company = company\n",
    "\n",
    "        self.number1 = numb1\n",
    "        self.number2 = numb2\n",
    "\n",
    "    def show(self):\n",
    "        print(\"Hello my name is \" + self.name+\" and I\" +\n",
    "                \" work in \"+self.company+\".\")\n",
    "        inner_var = self.name + self.company\n",
    "        return inner_var\n",
    "    \n",
    "\n",
    "    def add(self):\n",
    "        self.addition = self.number1 + self.number2 \n",
    "        return self.addition\n",
    "    \n",
    "    def comareToZero(self):\n",
    "        self.add() \n",
    "        print(self.addition > 0)\n",
    "\n",
    "\n",
    "obj = GFG(\"John\", \"GeeksForGeeks\", 1 , 3)\n",
    "obj.show()\n",
    "obj.comareToZero()"
   ]
  },
  {
   "cell_type": "markdown",
   "metadata": {},
   "source": [
    "# Method order doesn't matter >"
   ]
  },
  {
   "cell_type": "code",
   "execution_count": 25,
   "metadata": {},
   "outputs": [
    {
     "name": "stdout",
     "output_type": "stream",
     "text": [
      "29\n",
      "True\n"
     ]
    }
   ],
   "source": [
    "class GFG:\n",
    "    def __init__(self, name, company, numb1, numb2):\n",
    "        #  class instance level variables\n",
    "        self.name = name\n",
    "        self.company = company\n",
    "        self.number1 = numb1\n",
    "        self.number2 = numb2\n",
    "        # Call the add() method during initialization\n",
    "        self.add()\n",
    "\n",
    "    # instance level variable\n",
    "    instance_leve = None\n",
    "\n",
    "    def add(self):\n",
    "        # Perform the addition and store the result in self.addition\n",
    "        self.addition = self.number1 + self.number2 + 25\n",
    "        return self.addition\n",
    "    \n",
    "    def comareToZero(self):\n",
    "        # Since add() is already called in __init__, no need to call it again\n",
    "        print(self.addition)\n",
    "        print(self.addition > 0)\n",
    "\n",
    "\n",
    "# Create an instance of the class (this will automatically call add())\n",
    "obj = GFG(\"John\", \"GeeksForGeeks\", 1, 3)\n",
    "\n",
    "# Call comareToZero to check if addition is greater than zero\n",
    "obj.comareToZero()\n"
   ]
  },
  {
   "cell_type": "markdown",
   "metadata": {},
   "source": [
    "# class inheritence with initial parameters"
   ]
  },
  {
   "cell_type": "code",
   "execution_count": 2,
   "metadata": {},
   "outputs": [
    {
     "name": "stdout",
     "output_type": "stream",
     "text": [
      "Method in Class A with param_a for Class A, and Class B with param_b for Class B\n"
     ]
    }
   ],
   "source": [
    "class ClassA:\n",
    "    def __init__(self, param_a):\n",
    "        self.param_a = param_a  # Store ClassA's parameter\n",
    "\n",
    "    def method_in_A(self):\n",
    "        return f\"Method in Class A with {self.param_a}\"\n",
    "\n",
    "class ClassB:\n",
    "    def __init__(self, param_a, param_b):\n",
    "        # Create an instance of ClassA with its parameter (param_a)\n",
    "        self.class_a_instance = ClassA(param_a)\n",
    "        self.param_b = param_b  # Store ClassB's parameter\n",
    "\n",
    "    def method_in_B(self):\n",
    "        # Call method_in_A from ClassA\n",
    "        result_a = self.class_a_instance.method_in_A()\n",
    "        \n",
    "        # Use ClassB's parameter (self.param_b)\n",
    "        return f\"{result_a}, and Class B with {self.param_b}\"\n",
    "\n",
    "# Usage\n",
    "# Initialize ClassB with parameters for both ClassA and ClassB\n",
    "b = ClassB(\"param_a for Class A\", \"param_b for Class B\")\n",
    "\n",
    "# Call method_in_B, which will call ClassA's method and use its own parameter\n",
    "print(b.method_in_B())\n"
   ]
  },
  {
   "cell_type": "code",
   "execution_count": null,
   "metadata": {},
   "outputs": [],
   "source": []
  }
 ],
 "metadata": {
  "kernelspec": {
   "display_name": "Python 3",
   "language": "python",
   "name": "python3"
  },
  "language_info": {
   "codemirror_mode": {
    "name": "ipython",
    "version": 3
   },
   "file_extension": ".py",
   "mimetype": "text/x-python",
   "name": "python",
   "nbconvert_exporter": "python",
   "pygments_lexer": "ipython3",
   "version": "3.11.0"
  }
 },
 "nbformat": 4,
 "nbformat_minor": 2
}
