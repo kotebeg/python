{
 "cells": [
  {
   "cell_type": "code",
   "execution_count": 34,
   "metadata": {},
   "outputs": [],
   "source": [
    "import re\n",
    "\n",
    "text_to_search = '''\n",
    "word1 word2\n",
    "abcdefghijklmnopqurtuvwxyz\n",
    "ABCDEFGHIJKLMNOPQRSTUVWXYZ\n",
    "1234567890\n",
    "abc\n",
    "Har -HaHaff\n",
    "\n",
    "word -word \n",
    "sword\n",
    "wording\n",
    "word\n",
    "\n",
    "MetaCharacters (Need to be escaped):\n",
    ". ^ $ * + ? { } [ ] \\ | ( )\n",
    "\\n\n",
    "200$\n",
    "Ha \n",
    "HaHarr\n",
    "\n",
    "coreyms.com\n",
    "coreyms.com\n",
    "\n",
    "321-555-4321\n",
    "123.555.1234\n",
    "123*555*1234\n",
    "800-555-1234\n",
    "900-555-1234\n",
    "\n",
    "Mr. Schafer\n",
    "Mr Smith\n",
    "Ms Davis\n",
    "Mrs. Robinson\n",
    "Mr. T\n",
    "abc\n",
    "'''"
   ]
  },
  {
   "cell_type": "markdown",
   "metadata": {},
   "source": [
    "https://github.com/CoreyMSchafer/code_snippets/blob/master/Python-Regular-Expressions/snippets.txt"
   ]
  },
  {
   "cell_type": "code",
   "execution_count": 3,
   "metadata": {},
   "outputs": [
    {
     "name": "stdout",
     "output_type": "stream",
     "text": [
      "Tab\n",
      "\tTab\n",
      "\\tTab\n"
     ]
    }
   ],
   "source": [
    "print('Tab')\n",
    "print('\\tTab')\n",
    "print(r'\\tTab')  # r stand for row string"
   ]
  },
  {
   "cell_type": "markdown",
   "metadata": {},
   "source": [
    "### patterns"
   ]
  },
  {
   "cell_type": "code",
   "execution_count": 13,
   "metadata": {},
   "outputs": [
    {
     "name": "stdout",
     "output_type": "stream",
     "text": [
      "<re.Match object; span=(1, 4), match='abc'>\n",
      "<re.Match object; span=(66, 69), match='abc'>\n",
      "<re.Match object; span=(281, 284), match='abc'>\n"
     ]
    }
   ],
   "source": [
    "pattern = re.compile(r'abc')\n",
    "matches = pattern.finditer(text_to_search)\n",
    "for match in matches: print(match)"
   ]
  },
  {
   "cell_type": "code",
   "execution_count": 14,
   "metadata": {},
   "outputs": [
    {
     "name": "stdout",
     "output_type": "stream",
     "text": [
      "abc\n",
      "abc\n",
      "abc\n"
     ]
    }
   ],
   "source": [
    "print(text_to_search[1:4])\n",
    "print(text_to_search[66:69])\n",
    "print(text_to_search[281:284])"
   ]
  },
  {
   "cell_type": "code",
   "execution_count": 30,
   "metadata": {},
   "outputs": [
    {
     "name": "stdout",
     "output_type": "stream",
     "text": [
      "<re.Match object; span=(116, 117), match='.'>\n",
      "<re.Match object; span=(158, 159), match='.'>\n",
      "<re.Match object; span=(180, 181), match='.'>\n",
      "<re.Match object; span=(184, 185), match='.'>\n",
      "<re.Match object; span=(232, 233), match='.'>\n",
      "<re.Match object; span=(263, 264), match='.'>\n",
      "<re.Match object; span=(276, 277), match='.'>\n"
     ]
    }
   ],
   "source": [
    "# . ^ $ * + ? { } [ ] \\ | ( ) all these symbols neet to be escaped\n",
    "pattern = re.compile(r'\\.')\n",
    "matches = pattern.finditer(text_to_search)\n",
    "for match in matches: print(match)"
   ]
  },
  {
   "cell_type": "code",
   "execution_count": 31,
   "metadata": {},
   "outputs": [
    {
     "name": "stdout",
     "output_type": "stream",
     "text": [
      "<re.Match object; span=(151, 162), match='coreyms.com'>\n"
     ]
    }
   ],
   "source": [
    "# any dot need to be escaped\n",
    "pattern = re.compile(r'coreyms\\.com')\n",
    "matches = pattern.finditer(text_to_search)\n",
    "for match in matches: print(match)"
   ]
  },
  {
   "cell_type": "code",
   "execution_count": 36,
   "metadata": {},
   "outputs": [
    {
     "name": "stdout",
     "output_type": "stream",
     "text": [
      "<re.Match object; span=(0, 1), match='\\n'>\n",
      "<re.Match object; span=(1, 2), match='a'>\n",
      "<re.Match object; span=(2, 3), match='b'>\n",
      "<re.Match object; span=(3, 4), match='c'>\n",
      "<re.Match object; span=(4, 5), match='d'>\n",
      "<re.Match object; span=(5, 6), match='e'>\n",
      "<re.Match object; span=(6, 7), match='f'>\n",
      "<re.Match object; span=(7, 8), match='g'>\n",
      "<re.Match object; span=(8, 9), match='h'>\n",
      "<re.Match object; span=(9, 10), match='i'>\n",
      "<re.Match object; span=(10, 11), match='j'>\n",
      "<re.Match object; span=(11, 12), match='k'>\n",
      "<re.Match object; span=(12, 13), match='l'>\n",
      "<re.Match object; span=(13, 14), match='m'>\n",
      "<re.Match object; span=(14, 15), match='n'>\n",
      "<re.Match object; span=(15, 16), match='o'>\n",
      "<re.Match object; span=(16, 17), match='p'>\n",
      "<re.Match object; span=(17, 18), match='q'>\n",
      "<re.Match object; span=(18, 19), match='u'>\n",
      "<re.Match object; span=(19, 20), match='r'>\n",
      "<re.Match object; span=(20, 21), match='t'>\n",
      "<re.Match object; span=(21, 22), match='u'>\n",
      "<re.Match object; span=(22, 23), match='v'>\n",
      "<re.Match object; span=(23, 24), match='w'>\n",
      "<re.Match object; span=(24, 25), match='x'>\n",
      "<re.Match object; span=(25, 26), match='y'>\n",
      "<re.Match object; span=(26, 27), match='z'>\n",
      "<re.Match object; span=(27, 28), match='\\n'>\n",
      "<re.Match object; span=(28, 29), match='A'>\n",
      "<re.Match object; span=(29, 30), match='B'>\n",
      "<re.Match object; span=(30, 31), match='C'>\n",
      "<re.Match object; span=(31, 32), match='D'>\n",
      "<re.Match object; span=(32, 33), match='E'>\n",
      "<re.Match object; span=(33, 34), match='F'>\n",
      "<re.Match object; span=(34, 35), match='G'>\n",
      "<re.Match object; span=(35, 36), match='H'>\n",
      "<re.Match object; span=(36, 37), match='I'>\n",
      "<re.Match object; span=(37, 38), match='J'>\n",
      "<re.Match object; span=(38, 39), match='K'>\n",
      "<re.Match object; span=(39, 40), match='L'>\n",
      "<re.Match object; span=(40, 41), match='M'>\n",
      "<re.Match object; span=(41, 42), match='N'>\n",
      "<re.Match object; span=(42, 43), match='O'>\n",
      "<re.Match object; span=(43, 44), match='P'>\n",
      "<re.Match object; span=(44, 45), match='Q'>\n",
      "<re.Match object; span=(45, 46), match='R'>\n",
      "<re.Match object; span=(46, 47), match='S'>\n",
      "<re.Match object; span=(47, 48), match='T'>\n",
      "<re.Match object; span=(48, 49), match='U'>\n",
      "<re.Match object; span=(49, 50), match='V'>\n",
      "<re.Match object; span=(50, 51), match='W'>\n",
      "<re.Match object; span=(51, 52), match='X'>\n",
      "<re.Match object; span=(52, 53), match='Y'>\n",
      "<re.Match object; span=(53, 54), match='Z'>\n",
      "<re.Match object; span=(54, 55), match='\\n'>\n",
      "<re.Match object; span=(65, 66), match='\\n'>\n",
      "<re.Match object; span=(66, 67), match='a'>\n",
      "<re.Match object; span=(67, 68), match='b'>\n",
      "<re.Match object; span=(68, 69), match='c'>\n",
      "<re.Match object; span=(69, 70), match='\\n'>\n",
      "<re.Match object; span=(70, 71), match='H'>\n",
      "<re.Match object; span=(71, 72), match='a'>\n",
      "<re.Match object; span=(72, 73), match=' '>\n",
      "<re.Match object; span=(73, 74), match='H'>\n",
      "<re.Match object; span=(74, 75), match='a'>\n",
      "<re.Match object; span=(75, 76), match='H'>\n",
      "<re.Match object; span=(76, 77), match='a'>\n",
      "<re.Match object; span=(77, 78), match='\\n'>\n",
      "<re.Match object; span=(78, 79), match='\\n'>\n",
      "<re.Match object; span=(79, 80), match='M'>\n",
      "<re.Match object; span=(80, 81), match='e'>\n",
      "<re.Match object; span=(81, 82), match='t'>\n",
      "<re.Match object; span=(82, 83), match='a'>\n",
      "<re.Match object; span=(83, 84), match='C'>\n",
      "<re.Match object; span=(84, 85), match='h'>\n",
      "<re.Match object; span=(85, 86), match='a'>\n",
      "<re.Match object; span=(86, 87), match='r'>\n",
      "<re.Match object; span=(87, 88), match='a'>\n",
      "<re.Match object; span=(88, 89), match='c'>\n",
      "<re.Match object; span=(89, 90), match='t'>\n",
      "<re.Match object; span=(90, 91), match='e'>\n",
      "<re.Match object; span=(91, 92), match='r'>\n",
      "<re.Match object; span=(92, 93), match='s'>\n",
      "<re.Match object; span=(93, 94), match=' '>\n",
      "<re.Match object; span=(94, 95), match='('>\n",
      "<re.Match object; span=(95, 96), match='N'>\n",
      "<re.Match object; span=(96, 97), match='e'>\n",
      "<re.Match object; span=(97, 98), match='e'>\n",
      "<re.Match object; span=(98, 99), match='d'>\n",
      "<re.Match object; span=(99, 100), match=' '>\n",
      "<re.Match object; span=(100, 101), match='t'>\n",
      "<re.Match object; span=(101, 102), match='o'>\n",
      "<re.Match object; span=(102, 103), match=' '>\n",
      "<re.Match object; span=(103, 104), match='b'>\n",
      "<re.Match object; span=(104, 105), match='e'>\n",
      "<re.Match object; span=(105, 106), match=' '>\n",
      "<re.Match object; span=(106, 107), match='e'>\n",
      "<re.Match object; span=(107, 108), match='s'>\n",
      "<re.Match object; span=(108, 109), match='c'>\n",
      "<re.Match object; span=(109, 110), match='a'>\n",
      "<re.Match object; span=(110, 111), match='p'>\n",
      "<re.Match object; span=(111, 112), match='e'>\n",
      "<re.Match object; span=(112, 113), match='d'>\n",
      "<re.Match object; span=(113, 114), match=')'>\n",
      "<re.Match object; span=(114, 115), match=':'>\n",
      "<re.Match object; span=(115, 116), match='\\n'>\n",
      "<re.Match object; span=(116, 117), match='.'>\n",
      "<re.Match object; span=(117, 118), match=' '>\n",
      "<re.Match object; span=(118, 119), match='^'>\n",
      "<re.Match object; span=(119, 120), match=' '>\n",
      "<re.Match object; span=(120, 121), match='$'>\n",
      "<re.Match object; span=(121, 122), match=' '>\n",
      "<re.Match object; span=(122, 123), match='*'>\n",
      "<re.Match object; span=(123, 124), match=' '>\n",
      "<re.Match object; span=(124, 125), match='+'>\n",
      "<re.Match object; span=(125, 126), match=' '>\n",
      "<re.Match object; span=(126, 127), match='?'>\n",
      "<re.Match object; span=(127, 128), match=' '>\n",
      "<re.Match object; span=(128, 129), match='{'>\n",
      "<re.Match object; span=(129, 130), match=' '>\n",
      "<re.Match object; span=(130, 131), match='}'>\n",
      "<re.Match object; span=(131, 132), match=' '>\n",
      "<re.Match object; span=(132, 133), match='['>\n",
      "<re.Match object; span=(133, 134), match=' '>\n",
      "<re.Match object; span=(134, 135), match=']'>\n",
      "<re.Match object; span=(135, 136), match=' '>\n",
      "<re.Match object; span=(136, 137), match='\\\\'>\n",
      "<re.Match object; span=(137, 138), match=' '>\n",
      "<re.Match object; span=(138, 139), match='|'>\n",
      "<re.Match object; span=(139, 140), match=' '>\n",
      "<re.Match object; span=(140, 141), match='('>\n",
      "<re.Match object; span=(141, 142), match=' '>\n",
      "<re.Match object; span=(142, 143), match=')'>\n",
      "<re.Match object; span=(143, 144), match='\\n'>\n",
      "<re.Match object; span=(144, 145), match='\\n'>\n",
      "<re.Match object; span=(148, 149), match='$'>\n",
      "<re.Match object; span=(149, 150), match='\\n'>\n",
      "<re.Match object; span=(150, 151), match='\\n'>\n",
      "<re.Match object; span=(151, 152), match='c'>\n",
      "<re.Match object; span=(152, 153), match='o'>\n",
      "<re.Match object; span=(153, 154), match='r'>\n",
      "<re.Match object; span=(154, 155), match='e'>\n",
      "<re.Match object; span=(155, 156), match='y'>\n",
      "<re.Match object; span=(156, 157), match='m'>\n",
      "<re.Match object; span=(157, 158), match='s'>\n",
      "<re.Match object; span=(158, 159), match='.'>\n",
      "<re.Match object; span=(159, 160), match='c'>\n",
      "<re.Match object; span=(160, 161), match='o'>\n",
      "<re.Match object; span=(161, 162), match='m'>\n",
      "<re.Match object; span=(162, 163), match='\\n'>\n",
      "<re.Match object; span=(163, 164), match='\\n'>\n",
      "<re.Match object; span=(167, 168), match='-'>\n",
      "<re.Match object; span=(171, 172), match='-'>\n",
      "<re.Match object; span=(176, 177), match='\\n'>\n",
      "<re.Match object; span=(180, 181), match='.'>\n",
      "<re.Match object; span=(184, 185), match='.'>\n",
      "<re.Match object; span=(189, 190), match='\\n'>\n",
      "<re.Match object; span=(193, 194), match='*'>\n",
      "<re.Match object; span=(197, 198), match='*'>\n",
      "<re.Match object; span=(202, 203), match='\\n'>\n",
      "<re.Match object; span=(206, 207), match='-'>\n",
      "<re.Match object; span=(210, 211), match='-'>\n",
      "<re.Match object; span=(215, 216), match='\\n'>\n",
      "<re.Match object; span=(219, 220), match='-'>\n",
      "<re.Match object; span=(223, 224), match='-'>\n",
      "<re.Match object; span=(228, 229), match='\\n'>\n",
      "<re.Match object; span=(229, 230), match='\\n'>\n",
      "<re.Match object; span=(230, 231), match='M'>\n",
      "<re.Match object; span=(231, 232), match='r'>\n",
      "<re.Match object; span=(232, 233), match='.'>\n",
      "<re.Match object; span=(233, 234), match=' '>\n",
      "<re.Match object; span=(234, 235), match='S'>\n",
      "<re.Match object; span=(235, 236), match='c'>\n",
      "<re.Match object; span=(236, 237), match='h'>\n",
      "<re.Match object; span=(237, 238), match='a'>\n",
      "<re.Match object; span=(238, 239), match='f'>\n",
      "<re.Match object; span=(239, 240), match='e'>\n",
      "<re.Match object; span=(240, 241), match='r'>\n",
      "<re.Match object; span=(241, 242), match='\\n'>\n",
      "<re.Match object; span=(242, 243), match='M'>\n",
      "<re.Match object; span=(243, 244), match='r'>\n",
      "<re.Match object; span=(244, 245), match=' '>\n",
      "<re.Match object; span=(245, 246), match='S'>\n",
      "<re.Match object; span=(246, 247), match='m'>\n",
      "<re.Match object; span=(247, 248), match='i'>\n",
      "<re.Match object; span=(248, 249), match='t'>\n",
      "<re.Match object; span=(249, 250), match='h'>\n",
      "<re.Match object; span=(250, 251), match='\\n'>\n",
      "<re.Match object; span=(251, 252), match='M'>\n",
      "<re.Match object; span=(252, 253), match='s'>\n",
      "<re.Match object; span=(253, 254), match=' '>\n",
      "<re.Match object; span=(254, 255), match='D'>\n",
      "<re.Match object; span=(255, 256), match='a'>\n",
      "<re.Match object; span=(256, 257), match='v'>\n",
      "<re.Match object; span=(257, 258), match='i'>\n",
      "<re.Match object; span=(258, 259), match='s'>\n",
      "<re.Match object; span=(259, 260), match='\\n'>\n",
      "<re.Match object; span=(260, 261), match='M'>\n",
      "<re.Match object; span=(261, 262), match='r'>\n",
      "<re.Match object; span=(262, 263), match='s'>\n",
      "<re.Match object; span=(263, 264), match='.'>\n",
      "<re.Match object; span=(264, 265), match=' '>\n",
      "<re.Match object; span=(265, 266), match='R'>\n",
      "<re.Match object; span=(266, 267), match='o'>\n",
      "<re.Match object; span=(267, 268), match='b'>\n",
      "<re.Match object; span=(268, 269), match='i'>\n",
      "<re.Match object; span=(269, 270), match='n'>\n",
      "<re.Match object; span=(270, 271), match='s'>\n",
      "<re.Match object; span=(271, 272), match='o'>\n",
      "<re.Match object; span=(272, 273), match='n'>\n",
      "<re.Match object; span=(273, 274), match='\\n'>\n",
      "<re.Match object; span=(274, 275), match='M'>\n",
      "<re.Match object; span=(275, 276), match='r'>\n",
      "<re.Match object; span=(276, 277), match='.'>\n",
      "<re.Match object; span=(277, 278), match=' '>\n",
      "<re.Match object; span=(278, 279), match='T'>\n",
      "<re.Match object; span=(279, 280), match='\\n'>\n",
      "<re.Match object; span=(280, 281), match='a'>\n",
      "<re.Match object; span=(281, 282), match='b'>\n",
      "<re.Match object; span=(282, 283), match='c'>\n",
      "<re.Match object; span=(283, 284), match='\\n'>\n"
     ]
    }
   ],
   "source": [
    "# .       - Any Character Except New Line\n",
    "pattern = re.compile(r'\\D')\n",
    "matches = pattern.finditer(text_to_search)\n",
    "for match in matches: print(match)"
   ]
  },
  {
   "cell_type": "markdown",
   "metadata": {},
   "source": [
    "# `\\b` (Word Boundary)\n",
    "\n",
    "- `\\b` matches a position **between** a word character (`\\w`: letters, digits, or underscore) and a non-word character (`\\W`: any character that is not a word character), or between a word character and the start or end of a string.\n",
    "- It **detects word boundaries** (the transition between a word and a non-word).\n",
    "\n",
    "#### Example:\n",
    "```regex\n",
    "\\bword\\b\n",
    "```\n",
    "This pattern will match the word \"word\" only when it is a standalone word in the text. It won't match if \"word\" is part of a longer word like \"sword\" or \"wording\"."
   ]
  },
  {
   "cell_type": "markdown",
   "metadata": {},
   "source": [
    "Matches the empty string, but only at the beginning or end of a word. A word is defined as a sequence of word characters. Note that formally, `\\b` is defined as the boundary between a `\\w` and a `\\W `character (or vice versa), or between `\\w` and the beginning or end of the string. This means that `r'\\bat\\b'` matches `'at'`, `'at.'`, `'(at)'`, and `'as at ay'` but not `'attempt' `or `'atlas'`."
   ]
  },
  {
   "cell_type": "code",
   "execution_count": 30,
   "metadata": {},
   "outputs": [
    {
     "name": "stdout",
     "output_type": "stream",
     "text": [
      "<re.Match object; span=(95, 99), match='word'>\n",
      "<re.Match object; span=(101, 105), match='word'>\n",
      "<re.Match object; span=(121, 125), match='word'>\n"
     ]
    }
   ],
   "source": [
    "# \\b      - Word Boundary, 'Ha' text pattern, at the begginig or at the and of word\n",
    "pattern = re.compile(r'\\bword\\b')    # at the start and at the end, only word\n",
    "matches = pattern.finditer(text_to_search)\n",
    "for match in matches: print(match)"
   ]
  },
  {
   "cell_type": "code",
   "execution_count": 31,
   "metadata": {},
   "outputs": [
    {
     "name": "stdout",
     "output_type": "stream",
     "text": [
      "<re.Match object; span=(1, 5), match='word'>\n",
      "<re.Match object; span=(7, 11), match='word'>\n",
      "<re.Match object; span=(95, 99), match='word'>\n",
      "<re.Match object; span=(101, 105), match='word'>\n",
      "<re.Match object; span=(113, 117), match='word'>\n",
      "<re.Match object; span=(121, 125), match='word'>\n"
     ]
    }
   ],
   "source": [
    "# \\b      - Word Boundary, 'Ha' text pattern, at the begginig or at the and of word\n",
    "pattern = re.compile(r'\\bword')    # at the start only includes word, and wording, word1, word2\n",
    "matches = pattern.finditer(text_to_search)\n",
    "for match in matches: print(match)"
   ]
  },
  {
   "cell_type": "markdown",
   "metadata": {},
   "source": [
    "### `\\B` (Non-Word Boundary)\n",
    "- `\\B` matches any position **that is not** a word boundary.\n",
    "- It ensures that the match occurs **inside** a word or between two non-word characters, essentially the opposite of `\\b`.\n",
    "\n",
    "#### Example:\n",
    "```regex\n",
    "\\Bword\\B\n",
    "```\n",
    "This pattern will only match `\"word\"` if it is **not** at the start or end of a word, i.e., it would match inside a longer word like \"swordplay\" or \"password\", but **not** when \"word\" is a standalone word.\n"
   ]
  },
  {
   "cell_type": "code",
   "execution_count": 102,
   "metadata": {},
   "outputs": [
    {
     "name": "stdout",
     "output_type": "stream",
     "text": [
      "<re.Match object; span=(102, 106), match='word'>\n"
     ]
    }
   ],
   "source": [
    "# \\B      - Not a Word Boundary,\n",
    "pattern = re.compile(r'\\Bword')  # ir matches only sword, because word is at the last\n",
    "matches = pattern.finditer(text_to_search)\n",
    "for match in matches: print(match)"
   ]
  },
  {
   "cell_type": "code",
   "execution_count": 32,
   "metadata": {},
   "outputs": [
    {
     "name": "stdout",
     "output_type": "stream",
     "text": [
      "<re.Match object; span=(1, 5), match='word'>\n"
     ]
    }
   ],
   "source": [
    "pattern = re.compile(r'\\Bword')  # ir matches only sword, because word is at the last\n",
    "matches = pattern.finditer(\"swordplay\")\n",
    "for match in matches: print(match)"
   ]
  },
  {
   "cell_type": "code",
   "execution_count": 33,
   "metadata": {},
   "outputs": [
    {
     "name": "stdout",
     "output_type": "stream",
     "text": [
      "<re.Match object; span=(4, 8), match='word'>\n"
     ]
    }
   ],
   "source": [
    "pattern = re.compile(r'\\Bword')  # ir matches only sword, because word is at the last\n",
    "matches = pattern.finditer(\"password\")\n",
    "for match in matches: print(match)"
   ]
  },
  {
   "cell_type": "markdown",
   "metadata": {},
   "source": [
    "# `^` & `$`\n",
    "\n",
    "`^` (Caret.) Matches the start of the string, and in MULTILINE mode also matches immediately after each newline.\n",
    "\n",
    "`$` Matches the end of the string or just before the newline at the end of the string, "
   ]
  },
  {
   "cell_type": "code",
   "execution_count": null,
   "metadata": {},
   "outputs": [],
   "source": [
    "pattern = re.compile(r'\\d\\d\\d')  # ir matches only sword, because word is at the last\n",
    "matches = pattern.finditer(\"password\")\n",
    "for match in matches: print(match)"
   ]
  }
 ],
 "metadata": {
  "kernelspec": {
   "display_name": "Python 3",
   "language": "python",
   "name": "python3"
  },
  "language_info": {
   "codemirror_mode": {
    "name": "ipython",
    "version": 3
   },
   "file_extension": ".py",
   "mimetype": "text/x-python",
   "name": "python",
   "nbconvert_exporter": "python",
   "pygments_lexer": "ipython3",
   "version": "3.10.12"
  }
 },
 "nbformat": 4,
 "nbformat_minor": 2
}
