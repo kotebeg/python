{
 "cells": [
  {
   "cell_type": "code",
   "execution_count": 2,
   "metadata": {},
   "outputs": [],
   "source": [
    "def some_funct():\n",
    "    \"\"\"will be defined later\"\"\""
   ]
  },
  {
   "cell_type": "code",
   "execution_count": 4,
   "metadata": {},
   "outputs": [],
   "source": [
    "def square(x):\n",
    "    return x ** 2"
   ]
  },
  {
   "cell_type": "code",
   "execution_count": 5,
   "metadata": {},
   "outputs": [
    {
     "data": {
      "text/plain": [
       "[9, 25, 36]"
      ]
     },
     "execution_count": 5,
     "metadata": {},
     "output_type": "execute_result"
    }
   ],
   "source": [
    "def apply_func(func, *args):\n",
    "    results = []\n",
    "    for arg in args:\n",
    "        results.append(func(arg))    \n",
    "    \n",
    "    return results\n",
    "\n",
    "apply_func(square, 3, 5, 6) # use square as input argument"
   ]
  },
  {
   "cell_type": "code",
   "execution_count": 7,
   "metadata": {},
   "outputs": [
    {
     "data": {
      "text/plain": [
       "{'square': <function __main__.square(x)>, 'cube': <function __main__.cube(x)>}"
      ]
     },
     "execution_count": 7,
     "metadata": {},
     "output_type": "execute_result"
    }
   ],
   "source": [
    "def cube(x):\n",
    "    return x ** 3\n",
    "\n",
    "func_mapping = {'square': square, 'cube': cube}  # store functions in a dict\n",
    "func_mapping"
   ]
  },
  {
   "cell_type": "code",
   "execution_count": 8,
   "metadata": {},
   "outputs": [
    {
     "data": {
      "text/plain": [
       "<function __main__.square(x)>"
      ]
     },
     "execution_count": 8,
     "metadata": {},
     "output_type": "execute_result"
    }
   ],
   "source": [
    "func_mapping['square']"
   ]
  },
  {
   "cell_type": "code",
   "execution_count": 10,
   "metadata": {},
   "outputs": [
    {
     "data": {
      "text/plain": [
       "343"
      ]
     },
     "execution_count": 10,
     "metadata": {},
     "output_type": "execute_result"
    }
   ],
   "source": [
    "#  Returning Functions\n",
    "def get_func(func_name):\n",
    "    func_mapping = {'square': square, 'cube': cube}\n",
    "    return func_mapping.get(func_name, None)  # return function\n",
    "\n",
    "\n",
    "my_func = get_func('cube')\n",
    "my_func(7)"
   ]
  },
  {
   "cell_type": "code",
   "execution_count": 13,
   "metadata": {},
   "outputs": [
    {
     "name": "stdout",
     "output_type": "stream",
     "text": [
      "3-1=2\n"
     ]
    }
   ],
   "source": [
    "# Arguments Provided by Position\n",
    "\n",
    "def sub_number(minuend, subtrahend):\n",
    "  print(f\"{minuend}-{subtrahend}={minuend - subtrahend}\")\n",
    "\n",
    "sub_number(3, 1) # 3 assigned to minuend, 1 – subtrahend, "
   ]
  },
  {
   "cell_type": "code",
   "execution_count": 14,
   "metadata": {},
   "outputs": [
    {
     "name": "stdout",
     "output_type": "stream",
     "text": [
      "1-3=-2\n"
     ]
    }
   ],
   "source": [
    "sub_number(1, 3) # 1 assigned to minuend, 3 – subtrahend"
   ]
  },
  {
   "cell_type": "code",
   "execution_count": 15,
   "metadata": {},
   "outputs": [
    {
     "name": "stdout",
     "output_type": "stream",
     "text": [
      "3-1=2\n"
     ]
    }
   ],
   "source": [
    "# Arguments Provided by Name\n",
    "def sub_number(minuend, subtrahend):\n",
    "  print(f\"{minuend}-{subtrahend}={minuend - subtrahend}\")\n",
    "\n",
    "\n",
    "sub_number(minuend=3, subtrahend=1) # 3 assigned to minuend, 1 – subtrahend"
   ]
  },
  {
   "cell_type": "code",
   "execution_count": 16,
   "metadata": {},
   "outputs": [
    {
     "name": "stdout",
     "output_type": "stream",
     "text": [
      "3-1=2\n"
     ]
    }
   ],
   "source": [
    "sub_number(subtrahend=1, minuend=3) # the same herA"
   ]
  },
  {
   "cell_type": "code",
   "execution_count": 23,
   "metadata": {},
   "outputs": [],
   "source": [
    "def show_arguments(*args, **kwargs):\n",
    "  print(f\"args: {args}; kwargs: {kwargs}\")"
   ]
  },
  {
   "cell_type": "code",
   "execution_count": 24,
   "metadata": {},
   "outputs": [
    {
     "name": "stdout",
     "output_type": "stream",
     "text": [
      "args: (1, 'name'); kwargs: {'arg1': [1, 2, 3], 'arg2': 'value'}\n"
     ]
    }
   ],
   "source": [
    "show_arguments(1, 'name', arg1=[1, 2, 3], arg2='value')"
   ]
  },
  {
   "cell_type": "code",
   "execution_count": 19,
   "metadata": {},
   "outputs": [],
   "source": [
    "def show_arguments(*args, **kwargs):\n",
    "  print(args[1:-1])\n",
    "  print(kwargs['name'])"
   ]
  },
  {
   "cell_type": "code",
   "execution_count": 21,
   "metadata": {},
   "outputs": [
    {
     "name": "stdout",
     "output_type": "stream",
     "text": [
      "('name', 'value')\n",
      "arg1\n"
     ]
    }
   ],
   "source": [
    "show_arguments(1, 'name', 'value', 10, name='arg1', arg2='Tom')"
   ]
  },
  {
   "cell_type": "code",
   "execution_count": 25,
   "metadata": {},
   "outputs": [],
   "source": [
    "def show_unpacked_arguments(a, b, c, d, e):\n",
    "  print(a, b, c, d, e)"
   ]
  },
  {
   "cell_type": "code",
   "execution_count": 26,
   "metadata": {},
   "outputs": [
    {
     "name": "stdout",
     "output_type": "stream",
     "text": [
      "1 2 name 3 value\n"
     ]
    }
   ],
   "source": [
    "list_of_args = [1, 2, 'name']\n",
    "key_value_args = {'e': 'value', 'd': 3}\n",
    "\n",
    "show_unpacked_arguments (*list_of_args, **key_value_args)"
   ]
  },
  {
   "cell_type": "code",
   "execution_count": null,
   "metadata": {},
   "outputs": [],
   "source": [
    "def foo(pos1, pos2, /, pos_or_kwd1, pos_or_kwd2='default', *args, kwd_only1, kwd_only2='default', **kwargs):\n",
    "        print(\n",
    "        f\"pos1={pos1}\",\n",
    "        f\"pos2={pos2}\",\n",
    "        f\"pos_or_kwd1={pos_or_kwd1}\",\n",
    "        f\"pos_or_kwd2={pos_or_kwd2}\",\n",
    "        f\"args={args}\",\n",
    "        f\"kwd_only1={kwd_only1}\",\n",
    "        f\"kwd_only2={kwd_only2}\",\n",
    "        f\"kwargs={kwargs}\",\n",
    "        sep=\"\\n\",\n",
    "    )"
   ]
  },
  {
   "cell_type": "code",
   "execution_count": 28,
   "metadata": {},
   "outputs": [
    {
     "ename": "TypeError",
     "evalue": "foo() missing 1 required keyword-only argument: 'kwd_only1'",
     "output_type": "error",
     "traceback": [
      "\u001b[1;31m---------------------------------------------------------------------------\u001b[0m",
      "\u001b[1;31mTypeError\u001b[0m                                 Traceback (most recent call last)",
      "Cell \u001b[1;32mIn[28], line 1\u001b[0m\n\u001b[1;32m----> 1\u001b[0m foo(\u001b[39m1\u001b[39;49m, \u001b[39m2\u001b[39;49m, \u001b[39m3\u001b[39;49m)\n",
      "\u001b[1;31mTypeError\u001b[0m: foo() missing 1 required keyword-only argument: 'kwd_only1'"
     ]
    }
   ],
   "source": [
    "foo(1, 2, 3)"
   ]
  },
  {
   "cell_type": "code",
   "execution_count": null,
   "metadata": {},
   "outputs": [],
   "source": [
    "foo(1, 2, 3, kwd_only1=4)"
   ]
  }
 ],
 "metadata": {
  "kernelspec": {
   "display_name": "django",
   "language": "python",
   "name": "python3"
  },
  "language_info": {
   "codemirror_mode": {
    "name": "ipython",
    "version": 3
   },
   "file_extension": ".py",
   "mimetype": "text/x-python",
   "name": "python",
   "nbconvert_exporter": "python",
   "pygments_lexer": "ipython3",
   "version": "3.9.16"
  },
  "orig_nbformat": 4
 },
 "nbformat": 4,
 "nbformat_minor": 2
}
