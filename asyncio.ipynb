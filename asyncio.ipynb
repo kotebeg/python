{
 "cells": [
  {
   "cell_type": "markdown",
   "metadata": {},
   "source": [
    "## imports"
   ]
  },
  {
   "cell_type": "markdown",
   "metadata": {},
   "source": [
    "* **Thread**: A line of code execution that can run in one of your computer's cores.\n",
    "* **Process**: One of more threads and the resources they need (e.g. network connection, mouse pointer, hard drive access, or even the core(s) in which the thread(s) run).\n",
    "* **GIL**: A key, critical, important resource in any Python program. Only one is created per Python process, so it's unique in each."
   ]
  },
  {
   "cell_type": "code",
   "execution_count": 10,
   "metadata": {},
   "outputs": [],
   "source": [
    "import asyncio\n",
    "import time\n",
    "from threading import Thread"
   ]
  },
  {
   "cell_type": "code",
   "execution_count": 9,
   "metadata": {},
   "outputs": [],
   "source": [
    "await asyncio.sleep(5, result='hello')"
   ]
  },
  {
   "cell_type": "code",
   "execution_count": 25,
   "metadata": {},
   "outputs": [
    {
     "name": "stdout",
     "output_type": "stream",
     "text": [
      "hello, tom\n",
      "1.5163118839263916\n",
      "start calculating ...\n",
      "caclulating time finished 4.830546140670776\n",
      "whole program needed: 6.347211122512817\n",
      "----- threading -----\n",
      "\n",
      "\n",
      "\n",
      "\n",
      "start calculating ...\n",
      "caclulating time finished 5.0218892097473145\n",
      "hello, tom\n",
      "6.2671754360198975\n",
      "threading time: 6.282590866088867\n"
     ]
    }
   ],
   "source": [
    "\n",
    "\n",
    "def as_user():\n",
    "    start = time.time()\n",
    "    user_input = input('Enter your name:')\n",
    "    greeet = f'hello, {user_input}'\n",
    "    print(greeet)\n",
    "    end = time.time()\n",
    "    print(end - start)\n",
    "\n",
    "\n",
    "def comlex_calculation():\n",
    "    start = time.time()\n",
    "    print('start calculating ...')\n",
    "    [x**2 for x in range(20000000)]\n",
    "    end = time.time()\n",
    "    print('caclulating time finished', end - start)\n",
    "    \n",
    "\n",
    "start = time.time()\n",
    "as_user()\n",
    "comlex_calculation()\n",
    "end = time.time()\n",
    "print('whole program needed:', end - start)\n",
    "\n",
    "print('----- threading -----\\n\\n\\n\\n')\n",
    "\n",
    "thread1 = Thread(target=comlex_calculation)\n",
    "# thread3 = Thread(target=comlex_calculation)\n",
    "thread2 = Thread(target=as_user)\n",
    "\n",
    "start_thr = time.time()\n",
    "thread1.start()\n",
    "thread2.start()\n",
    "# thread3.start()\n",
    "\n",
    "\n",
    "thread1.join()\n",
    "thread2.join()\n",
    "# thread3.join()\n",
    "\n",
    "print('threading time:', time.time() - start_thr)"
   ]
  },
  {
   "cell_type": "code",
   "execution_count": null,
   "metadata": {},
   "outputs": [],
   "source": []
  }
 ],
 "metadata": {
  "kernelspec": {
   "display_name": "Python 3",
   "language": "python",
   "name": "python3"
  },
  "language_info": {
   "codemirror_mode": {
    "name": "ipython",
    "version": 3
   },
   "file_extension": ".py",
   "mimetype": "text/x-python",
   "name": "python",
   "nbconvert_exporter": "python",
   "pygments_lexer": "ipython3",
   "version": "3.10.12"
  }
 },
 "nbformat": 4,
 "nbformat_minor": 2
}
